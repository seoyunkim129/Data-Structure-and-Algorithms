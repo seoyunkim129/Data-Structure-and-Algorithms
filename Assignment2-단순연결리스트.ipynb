{
 "cells": [
  {
   "cell_type": "markdown",
   "id": "c05b86dd-4a42-4c17-8cb5-bd2f11301f9c",
   "metadata": {
    "jp-MarkdownHeadingCollapsed": true,
    "tags": []
   },
   "source": [
    "### Note)\n",
    "\n",
    "\n",
    "작성 완료한 .ipynb 파일을 <span style=\"color:blue\">스마트클래스 과제 게시판</span>에 제출해 주세요.  \n",
    "아래의 <학과>, <학번>, <이름> 정보를 본인의 정보로 수정하세요.  \n",
    "\n",
    "**학과**: 데이터사이언스 전공  \n",
    "**학번**: 20221612  \n",
    "**이름**: 김서윤\n"
   ]
  },
  {
   "cell_type": "markdown",
   "id": "a9a69f9f-2baa-455f-80e9-1439adefc353",
   "metadata": {
    "jp-MarkdownHeadingCollapsed": true,
    "tags": []
   },
   "source": [
    "### 문제1)\n",
    "\n",
    "Assignment2.pdf 파일의 <문제1>의 내용 및 실행 결과를 참고하여  \n",
    "아래 함수 선언 부분에서 미완성된 \n",
    "<span style=\"color:red\">SinglyLinkedList( ) 함수</span>를 완성시키세요."
   ]
  },
  {
   "cell_type": "code",
   "execution_count": 1,
   "id": "aee21f68-298e-4e5a-b2de-de482f410a15",
   "metadata": {
    "tags": []
   },
   "outputs": [
    {
     "name": "stdin",
     "output_type": "stream",
     "text": [
      "이름-->  다현\n",
      "학번-->  20220820\n"
     ]
    },
    {
     "name": "stdout",
     "output_type": "stream",
     "text": [
      "['다현', '20220820'] \n"
     ]
    },
    {
     "name": "stdin",
     "output_type": "stream",
     "text": [
      "이름-->  정연\n",
      "학번-->  20231021\n"
     ]
    },
    {
     "name": "stdout",
     "output_type": "stream",
     "text": [
      "['다현', '20220820'] ['정연', '20231021'] \n"
     ]
    },
    {
     "name": "stdin",
     "output_type": "stream",
     "text": [
      "이름-->  쯔위\n",
      "학번-->  20211004\n"
     ]
    },
    {
     "name": "stdout",
     "output_type": "stream",
     "text": [
      "['쯔위', '20211004'] ['다현', '20220820'] ['정연', '20231021'] \n"
     ]
    },
    {
     "name": "stdin",
     "output_type": "stream",
     "text": [
      "이름-->  나연\n",
      "학번-->  20202222\n"
     ]
    },
    {
     "name": "stdout",
     "output_type": "stream",
     "text": [
      "['나연', '20202222'] ['쯔위', '20211004'] ['다현', '20220820'] ['정연', '20231021'] \n"
     ]
    },
    {
     "name": "stdin",
     "output_type": "stream",
     "text": [
      "이름-->  \n"
     ]
    }
   ],
   "source": [
    "# 클래스와 함수 선언 부분\n",
    "class Node():\n",
    "    def __init__(self):\n",
    "        self.data = None\n",
    "        self.link = None\n",
    "        \n",
    "def printNodes(start):\n",
    "    current = start\n",
    "    if current == None:\n",
    "        return\n",
    "    print(current.data, end=' ')\n",
    "    while current.link != None:\n",
    "        current = current.link\n",
    "        print(current.data, end=' ')\n",
    "    print()\n",
    "\n",
    "def SinglyLinkedList(nameID):\n",
    "    global memory, head, current, pred\n",
    "    newNode = Node()  \n",
    "    newNode.data = nameID  \n",
    "    \n",
    "    if head == None:\n",
    "        head = newNode\n",
    "        return\n",
    "    \n",
    "    if nameID[1] < head.data[1]: \n",
    "        newNode.link = head\n",
    "        head = newNode\n",
    "        return\n",
    "    \n",
    "    current = head\n",
    "    while current.link != None:\n",
    "        pred = current\n",
    "        current = current.link\n",
    "        if nameID[1] < current.data[1]:  \n",
    "            pred.link = newNode\n",
    "            newNode.link = current\n",
    "            return\n",
    "    \n",
    "    current.link = newNode  \n",
    "\n",
    "    \n",
    "    \n",
    "# 전역 변수 선언 부분\n",
    "memory = []\n",
    "head, current, pred = None, None, None\n",
    "\n",
    "# 메인 코드 부분\n",
    "if __name__ == \"__main__\":\n",
    "    while True:\n",
    "        name = input(\"이름--> \")\n",
    "        if name == \"\" or name == None:\n",
    "            break\n",
    "        idNumber = input(\"학번--> \")\n",
    "        SinglyLinkedList([name, idNumber])\n",
    "        printNodes(head)"
   ]
  },
  {
   "cell_type": "markdown",
   "id": "b3a8da66-0f14-40e5-b106-baa6c23a7784",
   "metadata": {},
   "source": [
    "### 문제2)\n",
    "\n",
    "Assignment2.pdf 파일의 <문제2>의 내용 및 실행 결과를 참고하여  \n",
    "아래 함수 선언 부분에서 미완성된 \n",
    "<span style=\"color:red\"> findLottoNumber( ) 함수</span>를 완성시키세요."
   ]
  },
  {
   "cell_type": "code",
   "execution_count": 7,
   "id": "32988f73-2050-47bf-9092-fca465d8b2d3",
   "metadata": {
    "tags": []
   },
   "outputs": [
    {
     "name": "stdout",
     "output_type": "stream",
     "text": [
      "4 11 17 28 32 43 \n"
     ]
    }
   ],
   "source": [
    "import random\n",
    "\n",
    "# 클래스와 함수 선언 부분\n",
    "class Node():\n",
    "    def __init__(self):\n",
    "        self.data = None\n",
    "        self.link = None\n",
    "        \n",
    "def printNodes(start):\n",
    "    current = start\n",
    "    if current == None:\n",
    "        return\n",
    "    print(current.data, end=' ')\n",
    "    while current.link != None:\n",
    "        current = current.link\n",
    "        print(current.data, end=' ')\n",
    "    print()\n",
    "    \n",
    "def makeLottoList(num):\n",
    "    global memory, head, current, pre\n",
    "    \n",
    "    node = Node()\n",
    "    node.data = num\n",
    "    memory.append(node)\n",
    "    if head == None:  # 첫 번째 노드\n",
    "        head = node\n",
    "        return\n",
    "    if head.data > num:\n",
    "        node.link = head\n",
    "        head = node\n",
    "        return\n",
    "    \n",
    "    current = head\n",
    "    while current.link != None:\n",
    "        pre = current\n",
    "        current = current.link\n",
    "        if current.data > num:\n",
    "            pre.link = node\n",
    "            node.link = current\n",
    "            return\n",
    "        \n",
    "    current.link = node\n",
    "    \n",
    "def findLottoNumber(num):\n",
    "    current = head\n",
    "    while current != None:\n",
    "        if current.data == num:\n",
    "            return True\n",
    "        current = current.link\n",
    "    return False\n",
    "    \n",
    "\n",
    "# 전역 변수 선언 부분\n",
    "memory = []\n",
    "head, current, pred = None, None, None\n",
    "\n",
    "# 메인 함수 부분\n",
    "if __name__ == \"__main__\":\n",
    "    lottoCount = 0\n",
    "    while True:\n",
    "        lotto = random.randint(1, 45)        \n",
    "        if findLottoNumber(lotto):\n",
    "            continue\n",
    "        lottoCount += 1\n",
    "        makeLottoList(lotto)\n",
    "        if lottoCount >= 6:\n",
    "            break\n",
    "            \n",
    "    printNodes(head)"
   ]
  }
 ],
 "metadata": {
  "kernelspec": {
   "display_name": "Python 3 (ipykernel)",
   "language": "python",
   "name": "python3"
  },
  "language_info": {
   "codemirror_mode": {
    "name": "ipython",
    "version": 3
   },
   "file_extension": ".py",
   "mimetype": "text/x-python",
   "name": "python",
   "nbconvert_exporter": "python",
   "pygments_lexer": "ipython3",
   "version": "3.11.4"
  }
 },
 "nbformat": 4,
 "nbformat_minor": 5
}

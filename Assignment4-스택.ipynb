{
 "cells": [
  {
   "cell_type": "markdown",
   "id": "c05b86dd-4a42-4c17-8cb5-bd2f11301f9c",
   "metadata": {},
   "source": [
    "### Note)\n",
    "\n",
    "\n",
    "작성 완료한 .ipynb 파일을 <span style=\"color:blue\">스마트클래스 과제 게시판</span>에 제출해 주세요.  \n",
    "아래의 <학과>, <학번>, <이름> 정보를 본인의 정보로 수정하세요.  \n",
    "\n",
    "**학과**: 데이터사이언스 전공  \n",
    "**학번**: 20221612  \n",
    "**이름**: 김서윤 "
   ]
  },
  {
   "cell_type": "markdown",
   "id": "a9a69f9f-2baa-455f-80e9-1439adefc353",
   "metadata": {},
   "source": [
    "### 문제1)\n",
    "\n",
    "Assignment4.pdf 파일의 <문제1>의 내용 및 실행결과를 참고하여  \n",
    "아래 함수 선언 부분에서 미완성된 \n",
    "<span style=\"color:red\">isStackFull( ), isStackEmpty( ), push( ), pop( ), peek( ) 함수</span>를 완성시키세요."
   ]
  },
  {
   "cell_type": "code",
   "execution_count": 28,
   "id": "aee21f68-298e-4e5a-b2de-de482f410a15",
   "metadata": {
    "tags": []
   },
   "outputs": [
    {
     "name": "stdout",
     "output_type": "stream",
     "text": [
      "책을 대출한 순서: 경제 -> 소설 -> 요리 -> 건강 -> 교재 -> 여행 -> 종료\n",
      "책을 반납할 순서: 여행 -> 교재 -> 건강 -> 요리 -> 소설 -> 경제 -> 종료\n"
     ]
    }
   ],
   "source": [
    "import random\n",
    "\n",
    "# 함수 선언 부분\n",
    "def isStackFull():\n",
    "    global SIZE, stack, top\n",
    "    if (top >= SIZE-1) :\n",
    "        return True\n",
    "    else : \n",
    "        return False\n",
    "   \n",
    "\n",
    "    \n",
    "def isStackEmpty():\n",
    "    global SIZE, stack,top\n",
    "    if (top == -1) :\n",
    "        return True\n",
    "    else : \n",
    "        return False\n",
    "    \n",
    "    \n",
    "    \n",
    "def push(data):\n",
    "    global SIZE,stack,top \n",
    "    if (isStackFull()) :\n",
    "        print(\"스택이 꽉 찼습니다\")\n",
    "        return\n",
    "    top += 1\n",
    "    stack[top] = data\n",
    "    \n",
    "    \n",
    "    \n",
    "def pop():\n",
    "    global SIZE, stack,top\n",
    "    if (isStackEmpty()) :\n",
    "        #print(\"스택이 비었습니다\")\n",
    "        return None\n",
    "    data = stack[top]\n",
    "    stack[top] = None\n",
    "    top -= 1\n",
    "    return data\n",
    "\n",
    "\n",
    "def peek():\n",
    "    global SIZE, stack, top\n",
    "    if (isStackEmpty()):\n",
    "        #print(\"스택이 비었습니다\")\n",
    "        return None\n",
    "    return stack[top]\n",
    "    \n",
    "    \n",
    "# 전역 변수 선언 부분\n",
    "SIZE = 20\n",
    "stack = [None for _ in range(SIZE)]\n",
    "top = -1\n",
    "\n",
    "# 메인 코드 부분\n",
    "if __name__ == \"__main__\":\n",
    "    bookAry = [\"소설\", \"요리\", \"경제\", \"건강\", \"여행\", \"교재\"]\n",
    "    \n",
    "    random.shuffle(bookAry)\n",
    "    \n",
    "    print(\"책을 대출한 순서:\", end=' ')\n",
    "    for book in bookAry:\n",
    "        push(book)\n",
    "        print(book, \"->\", end=' ')\n",
    "    \n",
    "    print(\"종료\")\n",
    "    \n",
    "    print(\"책을 반납할 순서:\", end=' ')\n",
    "    while True:\n",
    "        book = pop()\n",
    "        if book == None:\n",
    "            break\n",
    "        \n",
    "        print(book, \"->\", end=' ')\n",
    "        \n",
    "    print(\"종료\")"
   ]
  }
 ],
 "metadata": {
  "kernelspec": {
   "display_name": "Python 3 (ipykernel)",
   "language": "python",
   "name": "python3"
  },
  "language_info": {
   "codemirror_mode": {
    "name": "ipython",
    "version": 3
   },
   "file_extension": ".py",
   "mimetype": "text/x-python",
   "name": "python",
   "nbconvert_exporter": "python",
   "pygments_lexer": "ipython3",
   "version": "3.11.4"
  }
 },
 "nbformat": 4,
 "nbformat_minor": 5
}

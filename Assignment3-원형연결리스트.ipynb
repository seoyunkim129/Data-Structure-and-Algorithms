{
 "cells": [
  {
   "cell_type": "markdown",
   "id": "c05b86dd-4a42-4c17-8cb5-bd2f11301f9c",
   "metadata": {},
   "source": [
    "### Note)\n",
    "\n",
    "\n",
    "작성 완료한 .ipynb 파일을 <span style=\"color:blue\">스마트클래스 과제 게시판</span>에 제출해 주세요.  \n",
    "아래의 <학과>, <학번>, <이름> 정보를 본인의 정보로 수정하세요.  \n",
    "\n",
    "**학과**: 데이터사이언스 전공  \n",
    "**학번**: 20231109  \n",
    "**이름**: 솜솜이  "
   ]
  },
  {
   "cell_type": "markdown",
   "id": "a9a69f9f-2baa-455f-80e9-1439adefc353",
   "metadata": {},
   "source": [
    "### 문제1)\n",
    "\n",
    "Assignment3.pdf 파일의 <문제1>의 내용 및 실행결과를 참고하여  \n",
    "아래 함수 선언 부분에서 미완성된 \n",
    "<span style=\"color:red\">makeIslandList( ) 함수</span>를 완성시키세요."
   ]
  },
  {
   "cell_type": "code",
   "execution_count": 19,
   "id": "aee21f68-298e-4e5a-b2de-de482f410a15",
   "metadata": {
    "tags": []
   },
   "outputs": [
    {
     "name": "stdout",
     "output_type": "stream",
     "text": [
      "<이 세상 모든 포켓몬과 친구가 되고 싶다옹!>\n",
      "\n",
      "물 포켓몬의 섬, 미발견 포켓몬: 117\n",
      "노말 포켓몬의 섬, 미발견 포켓몬: 85\n",
      "풀 포켓몬의 섬, 미발견 포켓몬: 66\n",
      "땅 포켓몬의 섬, 미발견 포켓몬: 56\n",
      "독 포켓몬의 섬, 미발견 포켓몬: 23\n",
      "불꽃 포켓몬의 섬, 미발견 포켓몬: 18\n",
      "얼음 포켓몬의 섬, 미발견 포켓몬: 10\n",
      "전기 포켓몬의 섬, 미발견 포켓몬: 6\n",
      "\n"
     ]
    }
   ],
   "source": [
    "import random\n",
    "\n",
    "# 클래스와 함수 선언 부분\n",
    "class Node():\n",
    "    def __init__(self):\n",
    "        self.data = None\n",
    "        self.link = None\n",
    "        \n",
    "def printIslands(start):\n",
    "    current = start\n",
    "    if current == None:\n",
    "        return\n",
    "    \n",
    "    print(current.data[0] + \", 미발견 포켓몬:\", current.data[1])\n",
    "    while current.link != head:\n",
    "        current = current.link\n",
    "        print(current.data[0] + \", 미발견 포켓몬:\", current.data[1])\n",
    "    \n",
    "    print()\n",
    "\n",
    "def makeIslandList(island):\n",
    "    global memory, head, current, pre\n",
    "    \n",
    "    node = Node()\n",
    "    node.data = island\n",
    "    memory.append(node)\n",
    "    \n",
    "    # 첫 번째 섬\n",
    "    if head == None:\n",
    "        head = node\n",
    "        node.link = head\n",
    "        return\n",
    "    \n",
    "    # 새 섬이 첫 번째 섬보다 미발견 포켓몬이 많으면, 방문해야 할 첫 번째 섬으로 만듦\n",
    "    \n",
    "    \n",
    "    # 헤드 앞에 삽입\n",
    "    \n",
    "    \n",
    "    # 중간에 데이터를 넣을 경우\n",
    "    \n",
    "    \n",
    "    \n",
    "# 전역 변수 선언 부분\n",
    "memory = []\n",
    "head, current, pred = None, None, None\n",
    "\n",
    "# 메인 코드 부분\n",
    "if __name__ == \"__main__\":\n",
    "    islandArray = []\n",
    "    islandName = [\"노말 포켓몬의 섬\", \"불꽃 포켓몬의 섬\", \"물 포켓몬의 섬\", \"풀 포켓몬의 섬\", \n",
    "                  \"전기 포켓몬의 섬\", \"얼음 포켓몬의 섬\", \"독 포켓몬의 섬\", \"땅 포켓몬의 섬\"]\n",
    "    \n",
    "    for j in range(0, len(islandName), 1):\n",
    "        island = (islandName[j], random.randint(1, 151))\n",
    "        islandArray.append(island)\n",
    "        \n",
    "    for island in islandArray:\n",
    "        makeIslandList(island)\n",
    "\n",
    "    print(\"<이 세상 모든 포켓몬과 친구가 되고 싶다옹!>\")\n",
    "    print()\n",
    "    printIslands(head)"
   ]
  },
  {
   "cell_type": "markdown",
   "id": "b3a8da66-0f14-40e5-b106-baa6c23a7784",
   "metadata": {},
   "source": [
    "### 문제2)\n",
    "\n",
    "Assignment3.pdf 파일의 <문제2>의 내용 및 실행결과를 참고하여  \n",
    "아래 함수 선언 부분에서 미완성된 \n",
    "<span style=\"color:red\"> printNodes( ) 함수</span>를 완성시키세요."
   ]
  },
  {
   "cell_type": "code",
   "execution_count": 20,
   "id": "32988f73-2050-47bf-9092-fca465d8b2d3",
   "metadata": {
    "tags": []
   },
   "outputs": [
    {
     "name": "stdout",
     "output_type": "stream",
     "text": [
      "정방향 --> 다현 정연 쯔위 사나 지효 \n",
      "역방향 --> 지효 사나 쯔위 정연 다현 \n"
     ]
    }
   ],
   "source": [
    "# 클래스와 함수 선언 부분\n",
    "class Node2():\n",
    "    def __init__(self):\n",
    "        self.left = None  # 앞쪽 링크\n",
    "        self.data = None\n",
    "        self.right = None  # 뒤쪽 링크\n",
    "        \n",
    "def printNodes(start):\n",
    "    current = start\n",
    "    if current.right == None:\n",
    "        return\n",
    "    print(\"정방향 -->\", end=' ')\n",
    "    print(current.data, end=' ')\n",
    "    while current.right != None:\n",
    "        current = current.right\n",
    "        print(current.data, end=' ')\n",
    "    print()\n",
    "    # 역방향으로도 출력되게 만드세요.\n",
    "    \n",
    "    \n",
    "    \n",
    "# 전역 변수 선언 부분\n",
    "memory = []\n",
    "head, current, pre = None, None, None\n",
    "dataArray = [\"다현\", \"정연\", \"쯔위\", \"사나\", \"지효\"]\n",
    "\n",
    "# 메인 함수 부분\n",
    "if __name__ == \"__main__\":\n",
    "    # 첫 번째 노드\n",
    "    node = Node2()\n",
    "    node.data = dataArray[0]\n",
    "    head = node\n",
    "    memory.append(node)\n",
    "    \n",
    "    # 두 번째 이후 노드\n",
    "    for data in dataArray[1:]:\n",
    "        pre = node\n",
    "        node = Node2()\n",
    "        node.data = data\n",
    "        pre.right = node\n",
    "        node.left = pre\n",
    "        memory.append(node)\n",
    "            \n",
    "    printNodes(head)"
   ]
  }
 ],
 "metadata": {
  "kernelspec": {
   "display_name": "Python 3 (ipykernel)",
   "language": "python",
   "name": "python3"
  },
  "language_info": {
   "codemirror_mode": {
    "name": "ipython",
    "version": 3
   },
   "file_extension": ".py",
   "mimetype": "text/x-python",
   "name": "python",
   "nbconvert_exporter": "python",
   "pygments_lexer": "ipython3",
   "version": "3.11.5"
  }
 },
 "nbformat": 4,
 "nbformat_minor": 5
}

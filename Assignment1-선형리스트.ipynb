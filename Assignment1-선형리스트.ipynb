{
 "cells": [
  {
   "cell_type": "markdown",
   "id": "c05b86dd-4a42-4c17-8cb5-bd2f11301f9c",
   "metadata": {
    "tags": []
   },
   "source": [
    "### Note)\n",
    "\n",
    "Assignment1.pdf 파일의 <문제 설명> 및 <실험 결과>의 내용을 참고하여  \n",
    "아래 함수 선언 부분에서 미완성된 \n",
    "<span style=\"color:red\"> find_and_insert_data( ) 함수</span>를 완성시키세요.\n",
    "\n",
    "작성 완료한 .ipynb 파일을 <span style=\"color:blue\">스마트클래스 과제 게시판</span>에 제출해 주세요. "
   ]
  },
  {
   "cell_type": "markdown",
   "id": "3945f75c-3def-424e-bd3d-91a809ddf3c1",
   "metadata": {},
   "source": [
    "아래의 <학과>, <학번>, <이름> 정보를 본인의 정보로 수정하세요.\n",
    "\n",
    "**학과**: 데이터사이언스 전공  \n",
    "**학번**: 20221612\n",
    "**이름**: 김서윤"
   ]
  },
  {
   "cell_type": "code",
   "execution_count": 1,
   "id": "aee21f68-298e-4e5a-b2de-de482f410a15",
   "metadata": {
    "tags": []
   },
   "outputs": [
    {
     "name": "stdout",
     "output_type": "stream",
     "text": [
      "[('다현', '1'), ('정연', '3'), ('쯔위', '9')]\n"
     ]
    },
    {
     "name": "stdin",
     "output_type": "stream",
     "text": [
      "값을 입력하세요 (1: 데이터 추가, 2: 프로그램 종료) :  1\n",
      "추가할 사람 >>  정연\n",
      "대기 번호 >>  2\n"
     ]
    },
    {
     "name": "stdout",
     "output_type": "stream",
     "text": [
      "[('다현', '1'), ('정연', '2'), ('정연', '3'), ('쯔위', '9')]\n"
     ]
    },
    {
     "name": "stdin",
     "output_type": "stream",
     "text": [
      "값을 입력하세요 (1: 데이터 추가, 2: 프로그램 종료) :  나연\n"
     ]
    },
    {
     "ename": "ValueError",
     "evalue": "invalid literal for int() with base 10: '나연'",
     "output_type": "error",
     "traceback": [
      "\u001b[1;31m---------------------------------------------------------------------------\u001b[0m",
      "\u001b[1;31mValueError\u001b[0m                                Traceback (most recent call last)",
      "Cell \u001b[1;32mIn[1], line 38\u001b[0m\n\u001b[0;32m     35\u001b[0m \u001b[38;5;28mprint\u001b[39m(arr)\n\u001b[0;32m     36\u001b[0m \u001b[38;5;28;01mwhile\u001b[39;00m (select \u001b[38;5;241m!=\u001b[39m \u001b[38;5;241m2\u001b[39m):\n\u001b[0;32m     37\u001b[0m     \u001b[38;5;66;03m# select 변수의 의미 (1: 데이터 추가, 2: 프로그램 종료)        \u001b[39;00m\n\u001b[1;32m---> 38\u001b[0m     select \u001b[38;5;241m=\u001b[39m \u001b[38;5;28mint\u001b[39m(\u001b[38;5;28minput\u001b[39m(\u001b[38;5;124m\"\u001b[39m\u001b[38;5;124m값을 입력하세요 (1: 데이터 추가, 2: 프로그램 종료) : \u001b[39m\u001b[38;5;124m\"\u001b[39m))\n\u001b[0;32m     40\u001b[0m     \u001b[38;5;28;01mif\u001b[39;00m select \u001b[38;5;241m==\u001b[39m \u001b[38;5;241m1\u001b[39m:\n\u001b[0;32m     41\u001b[0m         data \u001b[38;5;241m=\u001b[39m \u001b[38;5;28minput\u001b[39m(\u001b[38;5;124m\"\u001b[39m\u001b[38;5;124m추가할 사람 >> \u001b[39m\u001b[38;5;124m\"\u001b[39m)\n",
      "\u001b[1;31mValueError\u001b[0m: invalid literal for int() with base 10: '나연'"
     ]
    }
   ],
   "source": [
    "# 함수 선언 부분\n",
    "def find_and_insert_data(person, ticket_number):\n",
    "    information = (person, ticket_number)\n",
    "    \n",
    "    position = 0\n",
    "    for i in range(len(arr)):\n",
    "        if int(ticket_number) < int(arr[i][1]):\n",
    "            position = i\n",
    "            break\n",
    "        position = i + 1  \n",
    "\n",
    "    # 데이터 삽입\n",
    "    insert_data(position, information)\n",
    "    \n",
    "def insert_data(position, information):\n",
    "    if ((position < 0) or (position > len(arr))):\n",
    "        print(\"데이터를 삽입할 범위를 벗어났습니다.\")\n",
    "        return\n",
    "    \n",
    "    arr.append(None)\n",
    "    kLen = len(arr)\n",
    "    \n",
    "    for j in range(kLen - 1, position, -1):\n",
    "        arr[j] = arr[j-1]\n",
    "        arr[j-1] = None\n",
    "        \n",
    "    arr[position] = information\n",
    "    \n",
    "# 전역 변수 선언 부분\n",
    "arr = [(\"다현\", \"1\"), (\"정연\", \"3\"), (\"쯔위\", \"9\")]\n",
    "select = 0\n",
    "\n",
    "# 메인 함수 부분\n",
    "if __name__ == \"__main__\":\n",
    "    print(arr)\n",
    "    while (select != 2):\n",
    "        # select 변수의 의미 (1: 데이터 추가, 2: 프로그램 종료)        \n",
    "        select = int(input(\"값을 입력하세요 (1: 데이터 추가, 2: 프로그램 종료) : \"))\n",
    "        \n",
    "        if select == 1:\n",
    "            data = input(\"추가할 사람 >> \")\n",
    "            count = input(\"대기 번호 >> \")\n",
    "            find_and_insert_data(data, count)\n",
    "        elif select == 2:\n",
    "            print(\"프로그램을 종료합니다.\")\n",
    "        else:\n",
    "            print(\"잘못 입력하셨습니다!\")\n",
    "            continue\n",
    "            \n",
    "        print(arr)"
   ]
  },
  {
   "cell_type": "code",
   "execution_count": null,
   "id": "26a44226-f9b8-497f-babf-36a00a5118c4",
   "metadata": {},
   "outputs": [],
   "source": []
  }
 ],
 "metadata": {
  "kernelspec": {
   "display_name": "Python 3 (ipykernel)",
   "language": "python",
   "name": "python3"
  },
  "language_info": {
   "codemirror_mode": {
    "name": "ipython",
    "version": 3
   },
   "file_extension": ".py",
   "mimetype": "text/x-python",
   "name": "python",
   "nbconvert_exporter": "python",
   "pygments_lexer": "ipython3",
   "version": "3.11.4"
  }
 },
 "nbformat": 4,
 "nbformat_minor": 5
}

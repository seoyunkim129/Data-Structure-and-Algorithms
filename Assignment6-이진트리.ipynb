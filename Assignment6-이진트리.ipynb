{
 "cells": [
  {
   "cell_type": "markdown",
   "id": "c05b86dd-4a42-4c17-8cb5-bd2f11301f9c",
   "metadata": {},
   "source": [
    "### Note)\n",
    "\n",
    "\n",
    "작성 완료한 .ipynb 파일을 <span style=\"color:blue\">스마트클래스 과제 게시판</span>에 제출해 주세요.  \n",
    "아래의 <학과>, <학번>, <이름> 정보를 본인의 정보로 수정하세요.  \n",
    "\n",
    "**학과**: 데이터사이언스 전공  \n",
    "**학번**: 20231109  \n",
    "**이름**: 솜솜이  "
   ]
  },
  {
   "cell_type": "markdown",
   "id": "a9a69f9f-2baa-455f-80e9-1439adefc353",
   "metadata": {},
   "source": [
    "### 문제1)\n",
    "\n",
    "Assignment6.pdf 파일의 <문제1>의 내용 및 실행결과를 참고하여 아래 메인 코드 부분에서  \n",
    "미완성된 <span style=\"color:red\">while 반복문의 코드</span>를 완성시키세요."
   ]
  },
  {
   "cell_type": "code",
   "execution_count": 3,
   "id": "aee21f68-298e-4e5a-b2de-de482f410a15",
   "metadata": {
    "tags": []
   },
   "outputs": [
    {
     "name": "stdout",
     "output_type": "stream",
     "text": [
      "오늘 판매된 물품(중복O) --> ['컵라면', '우유', '우유', '커피', '컵밥', '삼각김밥', '컵밥', '생수', '우유', '생수', '우유', '컵밥', '커피', '컵라면', '샌드위치', '컵라면', '컵밥', '컵라면', '커피', '샌드위치']\n",
      "이진 탐색 트리 구성 완료!\n",
      "오늘 판매된 물품 종류(중복X) --> 컵라면 우유 삼각김밥 생수 샌드위치 커피 컵밥 "
     ]
    }
   ],
   "source": [
    "import random\n",
    "# 클래스와 함수 선언 부분\n",
    "class TreeNode():\n",
    "    def __init__(self):\n",
    "        self.left = None\n",
    "        self.data = None\n",
    "        self.right = None\n",
    "        \n",
    "\n",
    "def preorder(node):\n",
    "    if node == None:\n",
    "        return\n",
    "    print(node.data, end=' ')\n",
    "    preorder(node.left)\n",
    "    preorder(node.right)\n",
    "    \n",
    "\n",
    "# 전역 변수 선언 부분\n",
    "memory = []\n",
    "root = None\n",
    "dataAry = [\"우유\", \"컵밥\", \"컵라면\", \"삼각김밥\", \"샌드위치\", \"커피\", \"생수\"]\n",
    "sellAry = [random.choice(dataAry) for _ in range(20)]\n",
    "\n",
    "print(\"오늘 판매된 물품(중복O) -->\", sellAry)\n",
    "\n",
    "# 메인 코드 부분\n",
    "if __name__ == \"__main__\":\n",
    "    node = TreeNode()\n",
    "    node.data = sellAry[0]\n",
    "    root = node\n",
    "    memory.append(node)\n",
    "    \n",
    "    for name in sellAry[1:]:\n",
    "        node = TreeNode()\n",
    "        node.data = name\n",
    "        \n",
    "        current = root\n",
    "        while True:\n",
    "            # while 반복문의 코드를 완성시키세요.\n",
    "            \n",
    "            \n",
    "            \n",
    "                \n",
    "    print(\"이진 탐색 트리 구성 완료!\")\n",
    "    print(\"오늘 판매된 물품 종류(중복X) -->\", end=' ')\n",
    "    preorder(root)"
   ]
  },
  {
   "cell_type": "markdown",
   "id": "7f7cb5e7-b176-43ac-9060-dc5870399836",
   "metadata": {},
   "source": [
    "### 문제2)\n",
    "\n",
    "'Lecture 09. 이진 트리.pdf' 파일 44번 슬라이드에서 제공하고 있는 Self Study 문제를 해결해 보세요.  \n",
    "즉, 아래 메인 코드 부분에서 문제 2에서 제시하는 <span style=\"color:red\">이진 트리를 만들고, 전위, 중위, 후위 순회를 시켜 출력</span>하는 코드를 작성하세요."
   ]
  },
  {
   "cell_type": "code",
   "execution_count": null,
   "id": "cb296b49-c56d-4b0f-8ae9-485103baa944",
   "metadata": {},
   "outputs": [],
   "source": [
    "# 클래스와 함수 선언 부분\n",
    "class TreeNode():\n",
    "    def __init__(self):\n",
    "        self.left = None\n",
    "        self.data = None\n",
    "        self.right = None\n",
    "\n",
    "def preorder(node):\n",
    "    if node == None:\n",
    "        return\n",
    "    print(node.data, end=\"->\")\n",
    "    preorder(node.left)\n",
    "    preorder(node.right)\n",
    "\n",
    "def inorder(node):\n",
    "    if node == None:\n",
    "        return\n",
    "    inorder(node.left)\n",
    "    print(node.data, end=\"->\")\n",
    "    inorder(node.right)\n",
    "\n",
    "def postorder(node):    \n",
    "    if node == None:\n",
    "        return\n",
    "    postorder(node.left)\n",
    "    postorder(node.right)\n",
    "    print(node.data, end=\"->\")\n",
    "\n",
    "\n",
    "# 메인 코드 부분\n",
    "if __name__ == \"__main__\":\n",
    "    # 문제 2의 실행결과를 참고하시어, 메인 코드를 완성해 주세요."
   ]
  }
 ],
 "metadata": {
  "kernelspec": {
   "display_name": "Python 3 (ipykernel)",
   "language": "python",
   "name": "python3"
  },
  "language_info": {
   "codemirror_mode": {
    "name": "ipython",
    "version": 3
   },
   "file_extension": ".py",
   "mimetype": "text/x-python",
   "name": "python",
   "nbconvert_exporter": "python",
   "pygments_lexer": "ipython3",
   "version": "3.11.5"
  }
 },
 "nbformat": 4,
 "nbformat_minor": 5
}
